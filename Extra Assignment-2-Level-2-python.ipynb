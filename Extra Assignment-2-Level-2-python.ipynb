{
 "cells": [
  {
   "cell_type": "code",
   "execution_count": null,
   "id": "81a07e9c-38a9-4ec7-80f7-6432aee4941b",
   "metadata": {},
   "outputs": [],
   "source": [
    "#print 0 to 20 by using range"
   ]
  },
  {
   "cell_type": "code",
   "execution_count": 2,
   "id": "125cbbf4-59b4-4885-b2a5-8e6067dd2694",
   "metadata": {},
   "outputs": [
    {
     "name": "stdout",
     "output_type": "stream",
     "text": [
      "0\n",
      "1\n",
      "2\n",
      "3\n",
      "4\n",
      "5\n",
      "6\n",
      "7\n",
      "8\n",
      "9\n",
      "10\n",
      "11\n",
      "12\n",
      "13\n",
      "14\n",
      "15\n",
      "16\n",
      "17\n",
      "18\n",
      "19\n"
     ]
    }
   ],
   "source": [
    "for Num in range(0,20):\n",
    "    print(Num)"
   ]
  },
  {
   "cell_type": "code",
   "execution_count": null,
   "id": "fd0b8031-42cc-47fe-b295-1d0915dff221",
   "metadata": {},
   "outputs": [],
   "source": []
  },
  {
   "cell_type": "code",
   "execution_count": null,
   "id": "4fd083ed-5d64-4477-91a1-7cdb0a641749",
   "metadata": {},
   "outputs": [],
   "source": [
    "#print the number of items in the list by using len"
   ]
  },
  {
   "cell_type": "code",
   "execution_count": 3,
   "id": "86c3ca7f-0438-4ef1-bd0b-3a0ae08bfcd4",
   "metadata": {},
   "outputs": [
    {
     "name": "stdout",
     "output_type": "stream",
     "text": [
      "Enter the number items in the list : 7\n"
     ]
    }
   ],
   "source": [
    "Num=[10,20,14,55,43,87,66]\n",
    "print(\"Enter the number items in the list :\",len(Num))"
   ]
  },
  {
   "cell_type": "code",
   "execution_count": null,
   "id": "1b166c1f-b93c-401c-932a-cd6177c7ee90",
   "metadata": {},
   "outputs": [],
   "source": []
  },
  {
   "cell_type": "code",
   "execution_count": 6,
   "id": "215a374f-7587-4d48-9c4b-af8b1d62fe6b",
   "metadata": {},
   "outputs": [
    {
     "name": "stdout",
     "output_type": "stream",
     "text": [
      "Artifical Intelligence\n",
      "A\n",
      "r\n",
      "t\n",
      "i\n",
      "f\n",
      "i\n",
      "c\n",
      "a\n",
      "l\n",
      " \n",
      "I\n",
      "n\n",
      "t\n",
      "e\n",
      "l\n",
      "l\n",
      "i\n",
      "g\n",
      "e\n",
      "n\n",
      "c\n",
      "e\n"
     ]
    }
   ],
   "source": [
    "Name='Artifical Intelligence'\n",
    "print(Name)\n",
    "for Name2 in Name:\n",
    "    print(Name2)"
   ]
  },
  {
   "cell_type": "code",
   "execution_count": null,
   "id": "29af9d22-e50d-40b2-97fd-09e19ee67b58",
   "metadata": {},
   "outputs": [],
   "source": []
  },
  {
   "cell_type": "code",
   "execution_count": null,
   "id": "f88a450a-4ee5-475b-90a5-453d76f44e26",
   "metadata": {},
   "outputs": [],
   "source": [
    "#print range 10 to 20"
   ]
  },
  {
   "cell_type": "code",
   "execution_count": 20,
   "id": "c11b0dfb-2a6b-477d-b423-a81dcb3a9bcf",
   "metadata": {},
   "outputs": [
    {
     "name": "stdout",
     "output_type": "stream",
     "text": [
      "10 11 12 13 14 15 16 17 18 19 "
     ]
    }
   ],
   "source": [
    "for Num in range(10,20):\n",
    "    print(Num,end=\" \")"
   ]
  },
  {
   "cell_type": "code",
   "execution_count": null,
   "id": "b5cc8461-b04d-4803-8471-9b61304ee8b7",
   "metadata": {},
   "outputs": [],
   "source": []
  },
  {
   "cell_type": "code",
   "execution_count": 9,
   "id": "b7dc3c13-e1fd-4b22-be1c-1f0d3563a7a6",
   "metadata": {},
   "outputs": [
    {
     "name": "stdin",
     "output_type": "stream",
     "text": [
      "your name: Karthi\n",
      "your age: 28\n",
      "your Proffession: Tester\n"
     ]
    }
   ],
   "source": [
    "Name=input(\"your name:\")\n",
    "Age=input(\"your age:\")\n",
    "Proffession=input(\"your Proffession:\")"
   ]
  },
  {
   "cell_type": "code",
   "execution_count": null,
   "id": "a928807b-59ae-48a1-8d57-40b48d3fedd4",
   "metadata": {},
   "outputs": [],
   "source": []
  },
  {
   "cell_type": "code",
   "execution_count": null,
   "id": "2a078aea-a5c8-4a38-bd18-8d7a4399010e",
   "metadata": {},
   "outputs": [],
   "source": [
    "#Print mixed typr by using tuples"
   ]
  },
  {
   "cell_type": "code",
   "execution_count": 10,
   "id": "2b00079e-0f95-416a-ae5e-226436f0d535",
   "metadata": {},
   "outputs": [
    {
     "name": "stdout",
     "output_type": "stream",
     "text": [
      "(1, 'Welcome', 2, 'Hope')\n"
     ]
    }
   ],
   "source": [
    "tub=(1,'Welcome',2,'Hope')\n",
    "print(tub)"
   ]
  },
  {
   "cell_type": "code",
   "execution_count": null,
   "id": "c2bf797d-ea2a-4c9e-b36e-4ba59eea1b38",
   "metadata": {},
   "outputs": [],
   "source": []
  },
  {
   "cell_type": "code",
   "execution_count": null,
   "id": "f831abec-3f29-40f2-9720-d8178f9386a0",
   "metadata": {},
   "outputs": [],
   "source": [
    "#Print mixed typr by using tuples2"
   ]
  },
  {
   "cell_type": "code",
   "execution_count": 13,
   "id": "34fcc985-130e-4ffe-9f5b-e6e74c087215",
   "metadata": {},
   "outputs": [
    {
     "name": "stdout",
     "output_type": "stream",
     "text": [
      "((0, 1, 2, 3), ('Python', 'Hope'))\n"
     ]
    }
   ],
   "source": [
    "tub1=(0,1,2,3)\n",
    "tub2=('Python','Hope')\n",
    "tub3=((tub1,tub2))\n",
    "print(tub3)"
   ]
  },
  {
   "cell_type": "code",
   "execution_count": null,
   "id": "49ca1c8d-c648-4e60-8c87-af72c0d29984",
   "metadata": {},
   "outputs": [],
   "source": []
  },
  {
   "cell_type": "code",
   "execution_count": null,
   "id": "2e5d52b3-a3e7-4118-b434-8945353f9599",
   "metadata": {},
   "outputs": [],
   "source": [
    "#print Odd Number in the list"
   ]
  },
  {
   "cell_type": "code",
   "execution_count": 16,
   "id": "030f922f-fc26-4279-abfd-e2b7cb9ec641",
   "metadata": {},
   "outputs": [
    {
     "name": "stdout",
     "output_type": "stream",
     "text": [
      "19 is Odd Number\n",
      "25 is Odd Number\n",
      "1 is Odd Number\n"
     ]
    }
   ],
   "source": [
    "List=[20,10,16,19,25,1,276,188]\n",
    "for Num in List:\n",
    "    if((Num%2)==1):\n",
    "        print(Num,\"is Odd Number\")"
   ]
  },
  {
   "cell_type": "code",
   "execution_count": null,
   "id": "d4a00b7b-9be5-4010-9529-da56e67bb1d2",
   "metadata": {},
   "outputs": [],
   "source": []
  },
  {
   "cell_type": "code",
   "execution_count": null,
   "id": "2d7279d0-84ba-40be-87ad-52a24548b5b2",
   "metadata": {},
   "outputs": [],
   "source": [
    "#print Even Number in the list"
   ]
  },
  {
   "cell_type": "code",
   "execution_count": 17,
   "id": "e86e843b-e2ad-4728-bef5-2dc4d62f8be0",
   "metadata": {},
   "outputs": [
    {
     "name": "stdout",
     "output_type": "stream",
     "text": [
      "20 is Even Number\n",
      "10 is Even Number\n",
      "16 is Even Number\n",
      "276 is Even Number\n",
      "188 is Even Number\n"
     ]
    }
   ],
   "source": [
    "List=[20,10,16,19,25,1,276,188]\n",
    "for Num in List:\n",
    "    if((Num%2)==0):\n",
    "        print(Num,\"is Even Number\")"
   ]
  },
  {
   "cell_type": "code",
   "execution_count": null,
   "id": "3b2f79ba-9c85-4870-834d-59f959c320dd",
   "metadata": {},
   "outputs": [],
   "source": []
  }
 ],
 "metadata": {
  "kernelspec": {
   "display_name": "Python 3 (ipykernel)",
   "language": "python",
   "name": "python3"
  },
  "language_info": {
   "codemirror_mode": {
    "name": "ipython",
    "version": 3
   },
   "file_extension": ".py",
   "mimetype": "text/x-python",
   "name": "python",
   "nbconvert_exporter": "python",
   "pygments_lexer": "ipython3",
   "version": "3.12.7"
  }
 },
 "nbformat": 4,
 "nbformat_minor": 5
}
