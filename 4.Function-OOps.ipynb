{
 "cells": [
  {
   "cell_type": "code",
   "execution_count": null,
   "id": "8aa8ff81-31df-4c02-a733-46f292a7571a",
   "metadata": {},
   "outputs": [],
   "source": [
    "#if"
   ]
  },
  {
   "cell_type": "code",
   "execution_count": 3,
   "id": "fdeed55f-57d0-4d2f-a7db-80c4fedabac2",
   "metadata": {},
   "outputs": [
    {
     "name": "stdin",
     "output_type": "stream",
     "text": [
      "Enter the age : 18\n"
     ]
    },
    {
     "name": "stdout",
     "output_type": "stream",
     "text": [
      "Adult\n"
     ]
    }
   ],
   "source": [
    "Age=int(input(\"Enter the age :\"))\n",
    "if(Age==18):\n",
    "    print(\"Adult\")      "
   ]
  },
  {
   "cell_type": "code",
   "execution_count": null,
   "id": "46dfbe93-6528-4471-9291-eb7cafc5c92b",
   "metadata": {},
   "outputs": [],
   "source": []
  },
  {
   "cell_type": "code",
   "execution_count": null,
   "id": "d668b331-e8b1-4e49-8607-a4946e95aacd",
   "metadata": {},
   "outputs": [],
   "source": [
    "#if else"
   ]
  },
  {
   "cell_type": "code",
   "execution_count": 6,
   "id": "a1754b78-78d5-4d82-96bf-75d1cada63f3",
   "metadata": {},
   "outputs": [
    {
     "name": "stdin",
     "output_type": "stream",
     "text": [
      "Enter the age : 17\n"
     ]
    },
    {
     "name": "stdout",
     "output_type": "stream",
     "text": [
      "Children\n"
     ]
    }
   ],
   "source": [
    "Age=int(input(\"Enter the age :\"))\n",
    "if(Age<18):\n",
    "    print(\"Children\")\n",
    "else:\n",
    "    print(\"Adult\")  "
   ]
  },
  {
   "cell_type": "code",
   "execution_count": null,
   "id": "224c9c3c-a225-4b5c-affc-16dfc070081e",
   "metadata": {},
   "outputs": [],
   "source": []
  },
  {
   "cell_type": "code",
   "execution_count": null,
   "id": "02eb6470-dcb4-4348-a168-ab94022301e8",
   "metadata": {},
   "outputs": [],
   "source": [
    "#if elif"
   ]
  },
  {
   "cell_type": "code",
   "execution_count": 10,
   "id": "f59d9130-a9f5-4bc8-80c4-7cf17f754f85",
   "metadata": {},
   "outputs": [
    {
     "name": "stdin",
     "output_type": "stream",
     "text": [
      "Enter the age : 60\n"
     ]
    },
    {
     "name": "stdout",
     "output_type": "stream",
     "text": [
      "Senior Citizen\n"
     ]
    }
   ],
   "source": [
    "Age=int(input(\"Enter the age :\"))\n",
    "if(Age<18):\n",
    "    print(\"Children\")\n",
    "elif(Age<35):\n",
    "    print(\"Adult\")\n",
    "elif(Age<59):\n",
    "    print(\"Citizen\")\n",
    "else:\n",
    "    print(\"Senior Citizen\")"
   ]
  },
  {
   "cell_type": "code",
   "execution_count": null,
   "id": "85b05c3c-0852-45a1-a3fa-8814605afacb",
   "metadata": {},
   "outputs": [],
   "source": []
  },
  {
   "cell_type": "code",
   "execution_count": null,
   "id": "deda00d9-39f9-4470-bb91-704166ccae12",
   "metadata": {},
   "outputs": [],
   "source": [
    "#For loop"
   ]
  },
  {
   "cell_type": "code",
   "execution_count": 12,
   "id": "20bb204a-0ffd-4d8f-909e-ef5db4b4894e",
   "metadata": {},
   "outputs": [
    {
     "name": "stdout",
     "output_type": "stream",
     "text": [
      "Adult\n",
      "Citizen\n",
      "Senior Citizen\n",
      "Adult\n",
      "Senior Citizen\n"
     ]
    }
   ],
   "source": [
    "List=[23,45,67,34,89]\n",
    "for Age in List:\n",
    "    if(Age<18):\n",
    "       print(\"Children\")\n",
    "    elif(Age<35):\n",
    "       print(\"Adult\")\n",
    "    elif(Age<59):\n",
    "       print(\"Citizen\")\n",
    "    else:\n",
    "       print(\"Senior Citizen\")\n",
    "        "
   ]
  },
  {
   "cell_type": "code",
   "execution_count": null,
   "id": "90e0f876-42ee-4685-8dc6-435386bc1876",
   "metadata": {},
   "outputs": [],
   "source": []
  },
  {
   "cell_type": "code",
   "execution_count": null,
   "id": "dbeb1408-5a5b-4536-8118-0542bc06a2a8",
   "metadata": {},
   "outputs": [],
   "source": [
    "#Odd or Even "
   ]
  },
  {
   "cell_type": "code",
   "execution_count": 14,
   "id": "1eb1d2c2-113d-44af-8d5f-93d0e81dccd7",
   "metadata": {},
   "outputs": [
    {
     "name": "stdin",
     "output_type": "stream",
     "text": [
      "Enter the number : 3\n"
     ]
    },
    {
     "name": "stdout",
     "output_type": "stream",
     "text": [
      "Odd Number\n"
     ]
    }
   ],
   "source": [
    "Num=int(input(\"Enter the number :\"))\n",
    "if((Num%2)==0):\n",
    "    print(\"Even Number\")\n",
    "else:\n",
    "    print(\"Odd Number\")"
   ]
  },
  {
   "cell_type": "code",
   "execution_count": 16,
   "id": "36cd7d0d-6aaf-4917-b6cb-47386000355b",
   "metadata": {},
   "outputs": [
    {
     "name": "stdin",
     "output_type": "stream",
     "text": [
      "Enter the number : 2\n"
     ]
    },
    {
     "name": "stdout",
     "output_type": "stream",
     "text": [
      "Even Number\n"
     ]
    }
   ],
   "source": [
    "Num=int(input(\"Enter the number :\"))\n",
    "if((Num%2)==1):\n",
    "    print(\"Odd Number\")\n",
    "else:\n",
    "    print(\"Even Number\")"
   ]
  },
  {
   "cell_type": "code",
   "execution_count": null,
   "id": "5a666c41-71d2-4fae-a2cb-9ab47d8d665f",
   "metadata": {},
   "outputs": [],
   "source": []
  },
  {
   "cell_type": "code",
   "execution_count": null,
   "id": "0539dd33-b256-4062-96e6-b0637ff6f44d",
   "metadata": {},
   "outputs": [],
   "source": [
    "#Range"
   ]
  },
  {
   "cell_type": "code",
   "execution_count": 17,
   "id": "31f15173-0cf6-4c68-9c60-d72b6dd3ebc8",
   "metadata": {},
   "outputs": [
    {
     "name": "stdout",
     "output_type": "stream",
     "text": [
      "0\n",
      "1\n",
      "2\n",
      "3\n",
      "4\n",
      "5\n",
      "6\n",
      "7\n",
      "8\n",
      "9\n"
     ]
    }
   ],
   "source": [
    "for Num in range(0,10):\n",
    "    print(Num)"
   ]
  },
  {
   "cell_type": "code",
   "execution_count": 18,
   "id": "75d44611-de9b-4ae2-9d69-6a20aaa43c15",
   "metadata": {},
   "outputs": [
    {
     "name": "stdout",
     "output_type": "stream",
     "text": [
      "10\n",
      "12\n",
      "14\n",
      "16\n",
      "18\n"
     ]
    }
   ],
   "source": [
    "for Num in range(10,20,2):\n",
    "    print(Num)"
   ]
  },
  {
   "cell_type": "code",
   "execution_count": null,
   "id": "ac064227-be60-497f-b062-3d8b715e3ab6",
   "metadata": {},
   "outputs": [],
   "source": []
  },
  {
   "cell_type": "code",
   "execution_count": 5,
   "id": "11d462d7-7a09-4adb-bc00-d1e211d5d001",
   "metadata": {},
   "outputs": [],
   "source": [
    "List=[23,45,67,34,89]\n",
    "def Agecategory():\n",
    "    for Age in List:\n",
    "        if(Age<18):\n",
    "           print(\"Children\")\n",
    "        elif(Age<35):\n",
    "           print(\"Adult\")\n",
    "        elif(Age<59):\n",
    "           print(\"Citizen\")\n",
    "        else:\n",
    "           print(\"Senior Citizen\")"
   ]
  },
  {
   "cell_type": "code",
   "execution_count": 6,
   "id": "91c280f0-72b9-4923-bfab-3b55895c675b",
   "metadata": {},
   "outputs": [
    {
     "name": "stdout",
     "output_type": "stream",
     "text": [
      "Adult\n",
      "Citizen\n",
      "Senior Citizen\n",
      "Adult\n",
      "Senior Citizen\n"
     ]
    }
   ],
   "source": [
    "Agecategory()"
   ]
  },
  {
   "cell_type": "code",
   "execution_count": null,
   "id": "9a5eca39-ac68-4ea3-aec2-1fa0a5694d11",
   "metadata": {},
   "outputs": [],
   "source": []
  }
 ],
 "metadata": {
  "kernelspec": {
   "display_name": "Python 3 (ipykernel)",
   "language": "python",
   "name": "python3"
  },
  "language_info": {
   "codemirror_mode": {
    "name": "ipython",
    "version": 3
   },
   "file_extension": ".py",
   "mimetype": "text/x-python",
   "name": "python",
   "nbconvert_exporter": "python",
   "pygments_lexer": "ipython3",
   "version": "3.12.7"
  }
 },
 "nbformat": 4,
 "nbformat_minor": 5
}
