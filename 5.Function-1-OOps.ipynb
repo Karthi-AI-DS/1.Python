{
 "cells": [
  {
   "cell_type": "code",
   "execution_count": 28,
   "id": "3507efa2-a3ff-4023-86e8-fbe62d764f41",
   "metadata": {},
   "outputs": [],
   "source": [
    "List=[23,45,67,34,89]\n",
    "def Agecategory():\n",
    "        if(Age<18):\n",
    "           print(\"Children\")\n",
    "           cate=\"Children\"\n",
    "        elif(Age<35):\n",
    "           print(\"Adult\")\n",
    "           cate=\"Adult\"\n",
    "        elif(Age<59):\n",
    "           print(\"Citizen\")\n",
    "           cate=\"Citizen\"\n",
    "        else:\n",
    "           print(\"Senior Citizen\")\n",
    "           cate=\"Senior Citizen\"\n",
    "        return cate\n",
    "        "
   ]
  },
  {
   "cell_type": "code",
   "execution_count": 29,
   "id": "17725310-43ef-4103-bf54-8499d682559d",
   "metadata": {},
   "outputs": [
    {
     "name": "stdin",
     "output_type": "stream",
     "text": [
      "Enter the Age : 35\n"
     ]
    },
    {
     "name": "stdout",
     "output_type": "stream",
     "text": [
      "Citizen\n"
     ]
    }
   ],
   "source": [
    "Age=int(input(\"Enter the Age :\"))\n",
    "agecate=Agecategory()"
   ]
  },
  {
   "cell_type": "code",
   "execution_count": 30,
   "id": "97ae2b3b-b782-429c-8920-6454aa049bdd",
   "metadata": {},
   "outputs": [
    {
     "name": "stdout",
     "output_type": "stream",
     "text": [
      "Citizen\n"
     ]
    }
   ],
   "source": [
    "print(agecate)"
   ]
  },
  {
   "cell_type": "code",
   "execution_count": null,
   "id": "fc6d01f4-2f21-44d4-a967-014eabcf58fc",
   "metadata": {},
   "outputs": [],
   "source": []
  },
  {
   "cell_type": "code",
   "execution_count": 1,
   "id": "1baa37cd-72a0-4342-b5fe-f16c22e487a3",
   "metadata": {},
   "outputs": [],
   "source": [
    "def Oddeven():\n",
    "    Num=int(input(\"Enter the number :\"))\n",
    "    if((Num%2)==0):\n",
    "        print(\"Even Number\")\n",
    "        Message=\"Even Number\"\n",
    "    else:\n",
    "        print(\"Odd Number\")\n",
    "        Message=\"Odd Number\"\n",
    "    return Message    "
   ]
  },
  {
   "cell_type": "code",
   "execution_count": 4,
   "id": "db08bb29-34f0-4da4-b354-9ae8a02a302d",
   "metadata": {},
   "outputs": [
    {
     "name": "stdin",
     "output_type": "stream",
     "text": [
      "Enter the number : 6\n"
     ]
    },
    {
     "name": "stdout",
     "output_type": "stream",
     "text": [
      "Even Number\n"
     ]
    }
   ],
   "source": [
    "Message=Oddeven()"
   ]
  },
  {
   "cell_type": "code",
   "execution_count": 5,
   "id": "3a0d32ea-0d55-447d-b83f-6bffbae7051c",
   "metadata": {},
   "outputs": [
    {
     "name": "stdout",
     "output_type": "stream",
     "text": [
      "Thr given number is even\n"
     ]
    }
   ],
   "source": [
    "if(Message==\"Odd Number\"):\n",
    "    print(\"The given number is Odd\")\n",
    "else:\n",
    "    print(\"Thr given number is even\")"
   ]
  },
  {
   "cell_type": "code",
   "execution_count": null,
   "id": "3a2120b6-544b-4519-99da-0cfc08f97092",
   "metadata": {},
   "outputs": [],
   "source": []
  },
  {
   "cell_type": "code",
   "execution_count": 6,
   "id": "16016062-0312-4a0a-a6d5-d88d00be478a",
   "metadata": {},
   "outputs": [],
   "source": [
    "def BMI():\n",
    "    BMI=int(input(\"Enter the BMI Index :\"))\n",
    "    if(BMI<18.5):\n",
    "        print(\"Underweight\")\n",
    "        Message=\"Underweight\"\n",
    "    elif(BMI<24.9):\n",
    "        print(\"Normal\")\n",
    "        Message=\"Normal\"\n",
    "    elif(BMI<29.9):\n",
    "        print(\"Overweight\")\n",
    "        Message=\"Overweight\"\n",
    "    else:\n",
    "        print(\"Obese\")\n",
    "        Message=\"Obese\"\n",
    "    return Message"
   ]
  },
  {
   "cell_type": "code",
   "execution_count": 8,
   "id": "da6ad096-ced9-4fd4-995f-4744414d71a3",
   "metadata": {},
   "outputs": [
    {
     "name": "stdin",
     "output_type": "stream",
     "text": [
      "Enter the BMI Index : 25\n"
     ]
    },
    {
     "name": "stdout",
     "output_type": "stream",
     "text": [
      "Overweight\n"
     ]
    }
   ],
   "source": [
    "bmi=BMI()"
   ]
  },
  {
   "cell_type": "code",
   "execution_count": 9,
   "id": "e3b39fb6-8d75-40f2-8ee9-7d96a8ed112a",
   "metadata": {},
   "outputs": [
    {
     "name": "stdout",
     "output_type": "stream",
     "text": [
      "Overweight\n"
     ]
    }
   ],
   "source": [
    "print(bmi)"
   ]
  },
  {
   "cell_type": "code",
   "execution_count": 10,
   "id": "42b72586-581c-4754-836f-8aa1f149292b",
   "metadata": {},
   "outputs": [],
   "source": [
    "def Addition(num1,num2):\n",
    "    add=num1+num2\n",
    "    return add"
   ]
  },
  {
   "cell_type": "code",
   "execution_count": 11,
   "id": "e2a87808-df9d-47cb-a43a-69bb04f500bc",
   "metadata": {},
   "outputs": [
    {
     "data": {
      "text/plain": [
       "11"
      ]
     },
     "execution_count": 11,
     "metadata": {},
     "output_type": "execute_result"
    }
   ],
   "source": [
    "Addition(5,6)"
   ]
  },
  {
   "cell_type": "code",
   "execution_count": null,
   "id": "d4a66136-ef6f-4253-8bc2-66743771dba8",
   "metadata": {},
   "outputs": [],
   "source": []
  },
  {
   "cell_type": "code",
   "execution_count": 12,
   "id": "52ae7ed8-4bcb-4b65-b377-34e86b481909",
   "metadata": {},
   "outputs": [],
   "source": [
    "def subtraction(num1,num2):\n",
    "    sub=num1-num2\n",
    "    return sub"
   ]
  },
  {
   "cell_type": "code",
   "execution_count": 13,
   "id": "a12fe751-4259-4410-a698-9ffa198371a4",
   "metadata": {},
   "outputs": [
    {
     "data": {
      "text/plain": [
       "2"
      ]
     },
     "execution_count": 13,
     "metadata": {},
     "output_type": "execute_result"
    }
   ],
   "source": [
    "subtraction(5,3)"
   ]
  },
  {
   "cell_type": "code",
   "execution_count": null,
   "id": "9dc2d5fc-d9f6-452c-ac36-a9192a7260d1",
   "metadata": {},
   "outputs": [],
   "source": []
  }
 ],
 "metadata": {
  "kernelspec": {
   "display_name": "Python 3 (ipykernel)",
   "language": "python",
   "name": "python3"
  },
  "language_info": {
   "codemirror_mode": {
    "name": "ipython",
    "version": 3
   },
   "file_extension": ".py",
   "mimetype": "text/x-python",
   "name": "python",
   "nbconvert_exporter": "python",
   "pygments_lexer": "ipython3",
   "version": "3.12.7"
  }
 },
 "nbformat": 4,
 "nbformat_minor": 5
}
