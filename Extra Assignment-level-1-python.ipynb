{
 "cells": [
  {
   "cell_type": "code",
   "execution_count": 1,
   "id": "0689d04a-9087-48f7-a0ef-a08deb8e2d5b",
   "metadata": {},
   "outputs": [
    {
     "name": "stdout",
     "output_type": "stream",
     "text": [
      "HOPE AI\n"
     ]
    }
   ],
   "source": [
    "print(\"HOPE AI\")"
   ]
  },
  {
   "cell_type": "code",
   "execution_count": null,
   "id": "35341ed7-e4ec-4e50-9aa0-9365fdd34ae3",
   "metadata": {},
   "outputs": [],
   "source": []
  },
  {
   "cell_type": "code",
   "execution_count": null,
   "id": "15d6433f-e64a-49e9-b9de-b9966bb0256a",
   "metadata": {},
   "outputs": [],
   "source": [
    "#Buy Input"
   ]
  },
  {
   "cell_type": "code",
   "execution_count": 3,
   "id": "e9b6b907-5d73-48ab-9011-e7652fc569f6",
   "metadata": {},
   "outputs": [
    {
     "name": "stdin",
     "output_type": "stream",
     "text": [
      "Enter your institute name?: HOPE AI\n"
     ]
    }
   ],
   "source": [
    "Name=input(\"Enter your institute name?:\")"
   ]
  },
  {
   "cell_type": "code",
   "execution_count": null,
   "id": "5e491d4a-688f-4eeb-abee-f75524d8b3a4",
   "metadata": {},
   "outputs": [],
   "source": []
  },
  {
   "cell_type": "code",
   "execution_count": null,
   "id": "cdd75cc9-ac26-40f2-a652-47f01ebd41f5",
   "metadata": {},
   "outputs": [],
   "source": [
    "#Buy Input"
   ]
  },
  {
   "cell_type": "code",
   "execution_count": 5,
   "id": "c5bd84b2-b3f8-4a16-a90d-f8b598527286",
   "metadata": {},
   "outputs": [
    {
     "name": "stdin",
     "output_type": "stream",
     "text": [
      "Enter your name?: Karthi\n",
      "Enter your age?: 27\n",
      "Enter your School name?: Bharani park\n",
      "Enter your degree?: BE\n"
     ]
    }
   ],
   "source": [
    "Name=input(\"Enter your name?:\")\n",
    "Age=input(\"Enter your age?:\")\n",
    "School=input(\"Enter your School name?:\")\n",
    "Degree=input(\"Enter your degree?:\")"
   ]
  },
  {
   "cell_type": "code",
   "execution_count": null,
   "id": "097eb935-f5c6-4a50-8202-d5f7a272dad1",
   "metadata": {},
   "outputs": [],
   "source": []
  },
  {
   "cell_type": "code",
   "execution_count": null,
   "id": "d9b685ca-5746-40c4-b235-f24d37077de9",
   "metadata": {},
   "outputs": [],
   "source": [
    "#Addition"
   ]
  },
  {
   "cell_type": "code",
   "execution_count": 7,
   "id": "00f5fb82-0c21-4e2a-b3e7-a005d5750b36",
   "metadata": {},
   "outputs": [
    {
     "name": "stdout",
     "output_type": "stream",
     "text": [
      "Num1= 43\n",
      "Num2= 34\n",
      "Add= 77\n"
     ]
    }
   ],
   "source": [
    "Num1=43\n",
    "print(\"Num1=\",Num1)\n",
    "Num2=34\n",
    "print(\"Num2=\",Num2)\n",
    "print(\"Add=\",Num1+Num2)"
   ]
  },
  {
   "cell_type": "code",
   "execution_count": null,
   "id": "ed9f4317-dd98-41f1-9ca9-9b7f3d72eefd",
   "metadata": {},
   "outputs": [],
   "source": []
  },
  {
   "cell_type": "code",
   "execution_count": null,
   "id": "6fcdb4c5-3626-4fd6-8890-d2ede59f104b",
   "metadata": {},
   "outputs": [],
   "source": [
    "#Subtraction"
   ]
  },
  {
   "cell_type": "code",
   "execution_count": 9,
   "id": "2d1a5a10-cf03-4aeb-90ad-58555cca7552",
   "metadata": {},
   "outputs": [
    {
     "name": "stdout",
     "output_type": "stream",
     "text": [
      "Num1= 43\n",
      "Num2= 34\n",
      "Sub= 9\n"
     ]
    }
   ],
   "source": [
    "Num1=43\n",
    "print(\"Num1=\",Num1)\n",
    "Num2=34\n",
    "print(\"Num2=\",Num2)\n",
    "print(\"Sub=\",Num1-Num2)"
   ]
  },
  {
   "cell_type": "code",
   "execution_count": null,
   "id": "f7c61af9-d765-4bbb-ba6f-e9a600147234",
   "metadata": {},
   "outputs": [],
   "source": []
  },
  {
   "cell_type": "code",
   "execution_count": null,
   "id": "4a38f10c-6624-46c0-a4d7-81fa014aa010",
   "metadata": {},
   "outputs": [],
   "source": [
    "#Multiplication"
   ]
  },
  {
   "cell_type": "code",
   "execution_count": 11,
   "id": "c7aa24c8-0a78-41a8-a22f-8562af0d3f28",
   "metadata": {},
   "outputs": [
    {
     "name": "stdout",
     "output_type": "stream",
     "text": [
      "Num1= 63\n",
      "Num2= 97\n",
      "Mul= 6111\n"
     ]
    }
   ],
   "source": [
    "Num1=63\n",
    "print(\"Num1=\",Num1)\n",
    "Num2=97\n",
    "print(\"Num2=\",Num2)\n",
    "print(\"Mul=\",Num1*Num2)"
   ]
  },
  {
   "cell_type": "code",
   "execution_count": null,
   "id": "f7901baf-c59e-4a86-af5b-cc75dc8e7b01",
   "metadata": {},
   "outputs": [],
   "source": []
  },
  {
   "cell_type": "code",
   "execution_count": null,
   "id": "67f51cdc-17d5-4b49-8498-d1d7adb687b3",
   "metadata": {},
   "outputs": [],
   "source": [
    "#Division"
   ]
  },
  {
   "cell_type": "code",
   "execution_count": 13,
   "id": "e6ce49b7-8ed4-4456-aa7c-0cd058e38faa",
   "metadata": {},
   "outputs": [
    {
     "name": "stdout",
     "output_type": "stream",
     "text": [
      "Num1= 76\n",
      "Num2= 31\n",
      "Div= 2.4516129032258065\n"
     ]
    }
   ],
   "source": [
    "Num1=76\n",
    "print(\"Num1=\",Num1)\n",
    "Num2=31\n",
    "print(\"Num2=\",Num2)\n",
    "print(\"Div=\",Num1/Num2)"
   ]
  },
  {
   "cell_type": "code",
   "execution_count": null,
   "id": "62e4531a-02c8-43bd-9c0e-434452f7d97e",
   "metadata": {},
   "outputs": [],
   "source": []
  },
  {
   "cell_type": "code",
   "execution_count": null,
   "id": "e649c3a9-c57b-4944-85cf-fc1c8ec61f23",
   "metadata": {},
   "outputs": [],
   "source": [
    "#Modulo"
   ]
  },
  {
   "cell_type": "code",
   "execution_count": 15,
   "id": "7639e812-82be-469f-8245-acf92085971d",
   "metadata": {},
   "outputs": [
    {
     "name": "stdout",
     "output_type": "stream",
     "text": [
      "Num1= 76\n",
      "Num2= 31\n",
      "Div= 14\n"
     ]
    }
   ],
   "source": [
    "Num1=76\n",
    "print(\"Num1=\",Num1)\n",
    "Num2=31\n",
    "print(\"Num2=\",Num2)\n",
    "print(\"Div=\",Num1%Num2)"
   ]
  },
  {
   "cell_type": "code",
   "execution_count": null,
   "id": "db5b5640-9f41-4429-86cf-d42527093f0d",
   "metadata": {},
   "outputs": [],
   "source": []
  },
  {
   "cell_type": "code",
   "execution_count": null,
   "id": "633981c5-39ca-426e-9c4f-f00280ac0e41",
   "metadata": {},
   "outputs": [],
   "source": [
    "#Power"
   ]
  },
  {
   "cell_type": "code",
   "execution_count": 17,
   "id": "9d08b04a-c21d-4177-bba6-542560bf838d",
   "metadata": {},
   "outputs": [
    {
     "name": "stdout",
     "output_type": "stream",
     "text": [
      "Num1= 4\n",
      "Num2= 4\n",
      "Div= 256\n"
     ]
    }
   ],
   "source": [
    "Num1=4\n",
    "print(\"Num1=\",Num1)\n",
    "Num2=4\n",
    "print(\"Num2=\",Num2)\n",
    "print(\"Div=\",Num1**Num2)"
   ]
  },
  {
   "cell_type": "code",
   "execution_count": null,
   "id": "5755832c-9b90-4bd4-bb85-ecb3a93d9eca",
   "metadata": {},
   "outputs": [],
   "source": []
  }
 ],
 "metadata": {
  "kernelspec": {
   "display_name": "Python 3 (ipykernel)",
   "language": "python",
   "name": "python3"
  },
  "language_info": {
   "codemirror_mode": {
    "name": "ipython",
    "version": 3
   },
   "file_extension": ".py",
   "mimetype": "text/x-python",
   "name": "python",
   "nbconvert_exporter": "python",
   "pygments_lexer": "ipython3",
   "version": "3.12.7"
  }
 },
 "nbformat": 4,
 "nbformat_minor": 5
}
