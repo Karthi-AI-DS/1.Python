{
 "cells": [
  {
   "cell_type": "code",
   "execution_count": null,
   "id": "93ca19d2-2db7-4e49-bfab-f6c0316dff08",
   "metadata": {},
   "outputs": [],
   "source": [
    "#Print \"Correct \" if i==10"
   ]
  },
  {
   "cell_type": "code",
   "execution_count": 7,
   "id": "a5f60fa6-7b70-4103-8db4-c297330c9c78",
   "metadata": {},
   "outputs": [
    {
     "name": "stdin",
     "output_type": "stream",
     "text": [
      "Value : 10\n"
     ]
    },
    {
     "name": "stdout",
     "output_type": "stream",
     "text": [
      "Correct\n"
     ]
    }
   ],
   "source": [
    "i=int(input(\"Value :\"))\n",
    "if(i==10):\n",
    "    print(\"Correct\")"
   ]
  },
  {
   "cell_type": "code",
   "execution_count": null,
   "id": "ad6a30b5-8978-4c00-b567-261c64070b91",
   "metadata": {},
   "outputs": [],
   "source": []
  },
  {
   "cell_type": "code",
   "execution_count": null,
   "id": "88c0e10b-1038-4e89-9f69-f8c42b4a3781",
   "metadata": {},
   "outputs": [],
   "source": [
    "#Check the password by using if and else"
   ]
  },
  {
   "cell_type": "code",
   "execution_count": 26,
   "id": "71ab2618-b816-4382-9e38-11540d25cff9",
   "metadata": {},
   "outputs": [
    {
     "name": "stdin",
     "output_type": "stream",
     "text": [
      "Enter the password : HOPE@123\n"
     ]
    },
    {
     "name": "stdout",
     "output_type": "stream",
     "text": [
      "Your password is correct\n"
     ]
    }
   ],
   "source": [
    "Pwd=input(\"Enter the password :\")\n",
    "p=\"HOPE@123\"\n",
    "if(Pwd==p):\n",
    "    print(\"Your password is correct\")\n",
    "else:\n",
    "    print(\"Your have wrong password\")"
   ]
  },
  {
   "cell_type": "code",
   "execution_count": null,
   "id": "eee4bef9-7d23-4043-91b4-88546cb2e1f6",
   "metadata": {},
   "outputs": [],
   "source": [
    "#Category the people by age"
   ]
  },
  {
   "cell_type": "code",
   "execution_count": 17,
   "id": "e8cc0a33-a8be-4010-8394-6fb327bb7b94",
   "metadata": {},
   "outputs": [
    {
     "name": "stdin",
     "output_type": "stream",
     "text": [
      "Enter the age : 20\n"
     ]
    },
    {
     "name": "stdout",
     "output_type": "stream",
     "text": [
      "Adult\n"
     ]
    }
   ],
   "source": [
    "Age=int(input(\"Enter the age :\"))\n",
    "if(Age<18):\n",
    "    print(\"Children\")\n",
    "elif(Age<35):\n",
    "    print(\"Adult\")\n",
    "elif(Age<59):\n",
    "    print(\"Citizen\")\n",
    "else:\n",
    "    print(\"Senior Citizen\")"
   ]
  },
  {
   "cell_type": "code",
   "execution_count": null,
   "id": "53758856-a260-48da-9b24-910f8bccda8f",
   "metadata": {},
   "outputs": [],
   "source": []
  },
  {
   "cell_type": "code",
   "execution_count": null,
   "id": "7c1ad4df-d23b-488c-80c7-08aa35c060e4",
   "metadata": {},
   "outputs": [],
   "source": [
    "#Find the number is positive or negative"
   ]
  },
  {
   "cell_type": "code",
   "execution_count": 21,
   "id": "e3a4ee35-7b4c-40d9-abb5-ebbe6b76622a",
   "metadata": {},
   "outputs": [
    {
     "name": "stdin",
     "output_type": "stream",
     "text": [
      "Enter the Number : 1\n"
     ]
    },
    {
     "name": "stdout",
     "output_type": "stream",
     "text": [
      "No is positive\n"
     ]
    }
   ],
   "source": [
    "Num=int(input(\"Enter the Number :\"))\n",
    "if(Num<=1):\n",
    "    print(\"No is positive\")\n",
    "else:\n",
    "    print(\"Negative number\")"
   ]
  },
  {
   "cell_type": "code",
   "execution_count": null,
   "id": "b93e6ce4-9158-4fed-a9e4-a2432041c54b",
   "metadata": {},
   "outputs": [],
   "source": []
  },
  {
   "cell_type": "code",
   "execution_count": null,
   "id": "4e811c7b-83ea-4a9d-8457-d168e1a52222",
   "metadata": {},
   "outputs": [],
   "source": [
    "#Find the number is divisible by 5 or not"
   ]
  },
  {
   "cell_type": "code",
   "execution_count": 23,
   "id": "dd3fe982-ab70-4be3-8bc7-3fc084562a45",
   "metadata": {},
   "outputs": [
    {
     "name": "stdin",
     "output_type": "stream",
     "text": [
      "Enter the Number to check : 5\n"
     ]
    },
    {
     "name": "stdout",
     "output_type": "stream",
     "text": [
      "Yes it can be divisible by 5\n"
     ]
    }
   ],
   "source": [
    "Num=int(input(\"Enter the Number to check :\"))\n",
    "if(Num%5==0):\n",
    "    print(\"Yes it can be divisible by 5\")\n",
    "else:\n",
    "    print(\"NO it can't divisible by 5\")"
   ]
  },
  {
   "cell_type": "code",
   "execution_count": null,
   "id": "c21a05c5-6720-4c39-a32a-558155bbaa61",
   "metadata": {},
   "outputs": [],
   "source": []
  }
 ],
 "metadata": {
  "kernelspec": {
   "display_name": "Python 3 (ipykernel)",
   "language": "python",
   "name": "python3"
  },
  "language_info": {
   "codemirror_mode": {
    "name": "ipython",
    "version": 3
   },
   "file_extension": ".py",
   "mimetype": "text/x-python",
   "name": "python",
   "nbconvert_exporter": "python",
   "pygments_lexer": "ipython3",
   "version": "3.12.7"
  }
 },
 "nbformat": 4,
 "nbformat_minor": 5
}
