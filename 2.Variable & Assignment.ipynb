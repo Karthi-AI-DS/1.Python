{
 "cells": [
  {
   "cell_type": "code",
   "execution_count": 1,
   "id": "f7260fab-cf6a-49e1-adfc-970e4070e1ee",
   "metadata": {},
   "outputs": [
    {
     "name": "stdout",
     "output_type": "stream",
     "text": [
      "50\n"
     ]
    }
   ],
   "source": [
    "Num1=20\n",
    "Num2=30\n",
    "Add=Num1+Num2\n",
    "print(Add)"
   ]
  },
  {
   "cell_type": "code",
   "execution_count": null,
   "id": "db4ada73-8e6c-450d-a7fc-d2826e073411",
   "metadata": {},
   "outputs": [],
   "source": []
  },
  {
   "cell_type": "code",
   "execution_count": 5,
   "id": "461302de-82a0-4db7-ae0e-2389f3c87a03",
   "metadata": {},
   "outputs": [
    {
     "name": "stdout",
     "output_type": "stream",
     "text": [
      "Karthi Salary\n",
      "Day 100\n",
      "Night 200\n",
      "Total 300\n"
     ]
    }
   ],
   "source": [
    "print(\"Karthi Salary\")\n",
    "Day=100\n",
    "print(\"Day\",Day)\n",
    "Night=200\n",
    "print(\"Night\",Night)\n",
    "Total=Day+Night\n",
    "print(\"Total\",Total)"
   ]
  },
  {
   "cell_type": "code",
   "execution_count": null,
   "id": "79f9959d-e909-4f1d-8595-8e247423ccf2",
   "metadata": {},
   "outputs": [],
   "source": []
  },
  {
   "cell_type": "code",
   "execution_count": null,
   "id": "604593df-eb95-4dae-8181-0d9cfa0dbeb7",
   "metadata": {},
   "outputs": [],
   "source": [
    "#By Using integer"
   ]
  },
  {
   "cell_type": "code",
   "execution_count": 7,
   "id": "986e547f-335b-4094-84e7-9f5f0ba3b6b1",
   "metadata": {},
   "outputs": [
    {
     "name": "stdin",
     "output_type": "stream",
     "text": [
      "Enter the Num1 : 30\n"
     ]
    }
   ],
   "source": [
    "Num1=int(input(\"Enter the Num1 :\"))"
   ]
  },
  {
   "cell_type": "code",
   "execution_count": 8,
   "id": "a6a633c9-fda1-4537-856e-03024d384787",
   "metadata": {},
   "outputs": [
    {
     "name": "stdin",
     "output_type": "stream",
     "text": [
      "Enter the Num2 : 70\n"
     ]
    }
   ],
   "source": [
    "Num2=int(input(\"Enter the Num2 :\"))"
   ]
  },
  {
   "cell_type": "code",
   "execution_count": 9,
   "id": "2ea92d1a-5f8f-4826-b7f5-bce091171b2c",
   "metadata": {},
   "outputs": [
    {
     "name": "stdout",
     "output_type": "stream",
     "text": [
      "100\n"
     ]
    }
   ],
   "source": [
    "Add=Num1+Num2\n",
    "print(Add)"
   ]
  },
  {
   "cell_type": "code",
   "execution_count": null,
   "id": "09578f6e-4bb8-4ec5-9fec-358d267ee558",
   "metadata": {},
   "outputs": [],
   "source": []
  }
 ],
 "metadata": {
  "kernelspec": {
   "display_name": "Python 3 (ipykernel)",
   "language": "python",
   "name": "python3"
  },
  "language_info": {
   "codemirror_mode": {
    "name": "ipython",
    "version": 3
   },
   "file_extension": ".py",
   "mimetype": "text/x-python",
   "name": "python",
   "nbconvert_exporter": "python",
   "pygments_lexer": "ipython3",
   "version": "3.12.7"
  }
 },
 "nbformat": 4,
 "nbformat_minor": 5
}
