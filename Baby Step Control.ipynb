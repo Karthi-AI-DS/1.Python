{
 "cells": [
  {
   "cell_type": "code",
   "execution_count": 2,
   "id": "19745656-e29b-4e61-9e3c-53c59962e587",
   "metadata": {},
   "outputs": [
    {
     "name": "stdout",
     "output_type": "stream",
     "text": [
      "Welcome to Assigmnet-1\n"
     ]
    }
   ],
   "source": [
    "print(\"Welcome to Assigmnet-1\")"
   ]
  },
  {
   "cell_type": "code",
   "execution_count": null,
   "id": "0d6ae83f-a6d2-489f-8e22-07e46802519c",
   "metadata": {},
   "outputs": [],
   "source": []
  },
  {
   "cell_type": "code",
   "execution_count": 4,
   "id": "f38318f7-aa32-40be-ae7d-6e92ee5ee945",
   "metadata": {},
   "outputs": [
    {
     "name": "stdout",
     "output_type": "stream",
     "text": [
      "Num1= 10\n",
      "Num2= 30\n",
      "Add= 40\n"
     ]
    }
   ],
   "source": [
    "Num1=10\n",
    "print(\"Num1=\",Num1)\n",
    "Num2=30\n",
    "print(\"Num2=\",Num2)\n",
    "print(\"Add=\",Num1+Num2)"
   ]
  },
  {
   "cell_type": "code",
   "execution_count": null,
   "id": "1f7ce049-36d9-492b-b6a0-d99ca61a73ce",
   "metadata": {},
   "outputs": [],
   "source": []
  },
  {
   "cell_type": "code",
   "execution_count": null,
   "id": "6c810024-3ab7-4ef5-998c-a18a48720ae2",
   "metadata": {},
   "outputs": [],
   "source": [
    "#Body mass Index"
   ]
  },
  {
   "cell_type": "code",
   "execution_count": 6,
   "id": "cde7c211-2970-4fb1-901d-9d57e7c2eecb",
   "metadata": {},
   "outputs": [
    {
     "name": "stdin",
     "output_type": "stream",
     "text": [
      "Enter the BMI Index : 25\n"
     ]
    },
    {
     "name": "stdout",
     "output_type": "stream",
     "text": [
      "Overweight\n"
     ]
    }
   ],
   "source": [
    "BMI=int(input(\"Enter the BMI Index :\"))\n",
    "if(BMI<18.5):\n",
    "    print(\"Underweight\")\n",
    "elif(BMI<24.9):\n",
    "    print(\"Normal\")\n",
    "elif(BMI<29.9):\n",
    "    print(\"Overweight\")\n",
    "else:\n",
    "    print(\"Obese\")"
   ]
  },
  {
   "cell_type": "code",
   "execution_count": null,
   "id": "46313738-5d66-4a4a-a403-a64626a3ab62",
   "metadata": {},
   "outputs": [],
   "source": []
  }
 ],
 "metadata": {
  "kernelspec": {
   "display_name": "Python 3 (ipykernel)",
   "language": "python",
   "name": "python3"
  },
  "language_info": {
   "codemirror_mode": {
    "name": "ipython",
    "version": 3
   },
   "file_extension": ".py",
   "mimetype": "text/x-python",
   "name": "python",
   "nbconvert_exporter": "python",
   "pygments_lexer": "ipython3",
   "version": "3.12.7"
  }
 },
 "nbformat": 4,
 "nbformat_minor": 5
}
