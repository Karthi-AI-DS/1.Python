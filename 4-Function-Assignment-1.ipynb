{
 "cells": [
  {
   "cell_type": "code",
   "execution_count": null,
   "id": "b2b42bba-db3c-40e8-9bd3-dc1c8c75f813",
   "metadata": {},
   "outputs": [],
   "source": [
    "#Create fucntion Subfields()"
   ]
  },
  {
   "cell_type": "code",
   "execution_count": 3,
   "id": "fa527fff-7727-4eab-a581-682bee8f8eeb",
   "metadata": {},
   "outputs": [],
   "source": [
    "def Subfields():\n",
    "    print(\"Sub-fields in AI are :\")\n",
    "    Message=\"Sub-fields in AI are :\"\n",
    "    print(\"Machine learning\")\n",
    "    Message=\"Machine learning\"\n",
    "    print(\"Natural Network\")\n",
    "    Message=\"Natural Network\"\n",
    "    print(\"Vision\")\n",
    "    Message=\"Vision\"\n",
    "    print(\"Robotics\")\n",
    "    Message=\"Robotics\"\n",
    "    print(\"Speech processing\")\n",
    "    Message=\"Speech processing\"\n",
    "    print(\"NLP\")\n",
    "    Message=\"NLP\"\n",
    "    return Message"
   ]
  },
  {
   "cell_type": "code",
   "execution_count": 5,
   "id": "ffd146da-2ed0-4b89-91b8-cc8538d9bbdb",
   "metadata": {},
   "outputs": [
    {
     "name": "stdout",
     "output_type": "stream",
     "text": [
      "Sub-fields in AI are :\n",
      "Machine learning\n",
      "Natural Network\n",
      "Vision\n",
      "Robotics\n",
      "Speech processing\n",
      "NLP\n"
     ]
    }
   ],
   "source": [
    "Message=Subfields()"
   ]
  },
  {
   "cell_type": "code",
   "execution_count": null,
   "id": "297b614f-e684-41bd-9ff0-f7fb6dcc9bd5",
   "metadata": {},
   "outputs": [],
   "source": []
  },
  {
   "cell_type": "code",
   "execution_count": null,
   "id": "298b7b5d-7858-4204-a4d4-91fe11172bb9",
   "metadata": {},
   "outputs": [],
   "source": [
    "#Create fucntion Oddeven()"
   ]
  },
  {
   "cell_type": "code",
   "execution_count": 10,
   "id": "3320a57b-2e25-41f0-a944-31c5e31aaaa3",
   "metadata": {},
   "outputs": [],
   "source": [
    "def Oddeven():\n",
    "    Num=int(input(\"Enter the number :\"))\n",
    "    if((Num%2)==0):\n",
    "        print(Num,\"is Even Number\")\n",
    "        Message=Num,\"is Even Number\"\n",
    "    else:\n",
    "        print(Num,\"is Odd Number\")\n",
    "        Message=Num,\"is Odd Number\"\n",
    "    return Message "
   ]
  },
  {
   "cell_type": "code",
   "execution_count": 11,
   "id": "c2b723a5-d6ac-4dad-99b9-627d8dd57983",
   "metadata": {},
   "outputs": [
    {
     "name": "stdin",
     "output_type": "stream",
     "text": [
      "Enter the number : 4\n"
     ]
    },
    {
     "name": "stdout",
     "output_type": "stream",
     "text": [
      "4 is Even Number\n"
     ]
    }
   ],
   "source": [
    "Message=Oddeven()"
   ]
  },
  {
   "cell_type": "code",
   "execution_count": null,
   "id": "e624738c-fe39-48c1-a7be-7b2e0f3c10f2",
   "metadata": {},
   "outputs": [],
   "source": []
  },
  {
   "cell_type": "code",
   "execution_count": null,
   "id": "24133d63-9f71-4c40-89c2-1685bbddcfe3",
   "metadata": {},
   "outputs": [],
   "source": [
    "#Create fucntion Elegible()"
   ]
  },
  {
   "cell_type": "code",
   "execution_count": 28,
   "id": "cc568bdc-1d32-4ade-a669-b765311f260d",
   "metadata": {},
   "outputs": [],
   "source": [
    "def Elegible():\n",
    "    Gender=input(\"Your Gender :\")\n",
    "    Age=int(input(\"Your Age :\"))\n",
    "    if (Age<25):\n",
    "        print(\"Not Elegible\")\n",
    "        Message=\"Not Elegible\"\n",
    "    else:\n",
    "        print(\"Elegible\")\n",
    "        Message=\"Elegible\"\n",
    "    return Message  "
   ]
  },
  {
   "cell_type": "code",
   "execution_count": 29,
   "id": "af550897-8296-4f60-a27a-ad6f0b5c6bf4",
   "metadata": {},
   "outputs": [
    {
     "name": "stdin",
     "output_type": "stream",
     "text": [
      "Your Gender : Male\n",
      "Your Age : 30\n"
     ]
    },
    {
     "name": "stdout",
     "output_type": "stream",
     "text": [
      "Elegible\n"
     ]
    }
   ],
   "source": [
    "Message=Elegible()"
   ]
  },
  {
   "cell_type": "code",
   "execution_count": null,
   "id": "0fe2cb34-6837-4a1b-98d9-7a570c4acab5",
   "metadata": {},
   "outputs": [],
   "source": []
  },
  {
   "cell_type": "code",
   "execution_count": null,
   "id": "c081540e-c130-4fda-ae17-abffb4bd5e20",
   "metadata": {},
   "outputs": [],
   "source": [
    "#Create fucntion percenatge()"
   ]
  },
  {
   "cell_type": "code",
   "execution_count": 39,
   "id": "5ef73539-65ee-4aa9-b150-1a73bf42261f",
   "metadata": {},
   "outputs": [],
   "source": [
    "def percenatge():\n",
    "    Sub1=int(input(\"Subject 1 :\"))\n",
    "    Sub2=int(input(\"Subject 2 :\"))\n",
    "    Sub3=int(input(\"Subject 3 :\"))\n",
    "    Sub4=int(input(\"Subject 4 :\"))\n",
    "    Sub5=int(input(\"Subject 5 :\"))\n",
    "    Total=Sub1+Sub2+Sub3+Sub4+Sub5\n",
    "    print(\"Total :\",Total)\n",
    "    Percentage=(Total/500)*100\n",
    "    print(\"Percentage :\",Percentage,\"%\")"
   ]
  },
  {
   "cell_type": "code",
   "execution_count": 40,
   "id": "72376de4-9b0e-43ea-926b-b2b398e84039",
   "metadata": {},
   "outputs": [
    {
     "name": "stdin",
     "output_type": "stream",
     "text": [
      "Subject 1 : 98\n",
      "Subject 2 : 87\n",
      "Subject 3 : 95\n",
      "Subject 4 : 95\n",
      "Subject 5 : 93\n"
     ]
    },
    {
     "name": "stdout",
     "output_type": "stream",
     "text": [
      "Total : 468\n",
      "Percentage : 93.60000000000001 %\n"
     ]
    }
   ],
   "source": [
    "percenatge()"
   ]
  },
  {
   "cell_type": "code",
   "execution_count": null,
   "id": "981b0e24-25d8-4ea5-8aef-7e5c86f79208",
   "metadata": {},
   "outputs": [],
   "source": []
  },
  {
   "cell_type": "code",
   "execution_count": null,
   "id": "aa431eaf-8c9a-478c-a569-276a3e193685",
   "metadata": {},
   "outputs": [],
   "source": [
    "#Create fucntion triangle()"
   ]
  },
  {
   "cell_type": "code",
   "execution_count": 31,
   "id": "959a00c2-69c4-4b9f-a453-9440394d5173",
   "metadata": {},
   "outputs": [],
   "source": [
    "def triangle():\n",
    "    Height=int(input(\"Height :\"))\n",
    "    Breadth=int(input(\"Breadth :\"))\n",
    "    Area=(Height*Breadth)/2\n",
    "    AF=Area\n",
    "    Areaformule=input(\"Area formule :\")\n",
    "    print(\"Area Triangle :\",AF)\n",
    "    Height1=int(input(\"Height 1 :\"))\n",
    "    Height2=int(input(\"Height 2 :\"))\n",
    "    Breadth2=int(input(\"Breadth 2 :\"))\n",
    "    PF=Height1+Height2+Breadth2\n",
    "    PerimeterFormula=input(\"Perimeter Formule :\")\n",
    "    print(\"Area of perimeter :\",PF)"
   ]
  },
  {
   "cell_type": "code",
   "execution_count": 32,
   "id": "778ed363-ea12-41d6-86c5-18e5af6ce970",
   "metadata": {},
   "outputs": [
    {
     "name": "stdin",
     "output_type": "stream",
     "text": [
      "Height : 32\n",
      "Breadth : 34\n",
      "Area formule : (Height*Breadth)/2\n"
     ]
    },
    {
     "name": "stdout",
     "output_type": "stream",
     "text": [
      "Area Triangle : 544.0\n"
     ]
    },
    {
     "name": "stdin",
     "output_type": "stream",
     "text": [
      "Height 1 : 2\n",
      "Height 2 : 4\n",
      "Breadth 2 : 4\n",
      "Perimeter Formule : Height1+Height2+Breadth\n"
     ]
    },
    {
     "name": "stdout",
     "output_type": "stream",
     "text": [
      "Area of perimeter : 10\n"
     ]
    }
   ],
   "source": [
    "triangle()"
   ]
  },
  {
   "cell_type": "code",
   "execution_count": null,
   "id": "6e0c2edd-de08-4fe3-8406-6374cd6fb2dc",
   "metadata": {},
   "outputs": [],
   "source": []
  }
 ],
 "metadata": {
  "kernelspec": {
   "display_name": "Python 3 (ipykernel)",
   "language": "python",
   "name": "python3"
  },
  "language_info": {
   "codemirror_mode": {
    "name": "ipython",
    "version": 3
   },
   "file_extension": ".py",
   "mimetype": "text/x-python",
   "name": "python",
   "nbconvert_exporter": "python",
   "pygments_lexer": "ipython3",
   "version": "3.12.7"
  }
 },
 "nbformat": 4,
 "nbformat_minor": 5
}
